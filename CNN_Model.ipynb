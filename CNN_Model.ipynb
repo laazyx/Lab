{
 "cells": [
  {
   "cell_type": "markdown",
   "metadata": {},
   "source": [
    "# CNN model For fashion Mnist Dataset Classication"
   ]
  },
  {
   "cell_type": "code",
   "execution_count": 1,
   "metadata": {},
   "outputs": [],
   "source": [
    "import tensorflow as tf\n",
    "import numpy as np\n",
    "import matplotlib.pyplot as plt\n",
    "from PIL import Image\n",
    "from tensorflow import keras"
   ]
  },
  {
   "cell_type": "code",
   "execution_count": 2,
   "metadata": {},
   "outputs": [],
   "source": [
    "\n",
    "fas_data=keras.datasets.fashion_mnist\n",
    "(train_images,train_labels),(test_images,test_labels)=fas_data.load_data()\n",
    "\n",
    "\n",
    "\n",
    "############################## Class naming  #####################\n",
    "class_names=['Tshirt/TOP','Trouser','Pullover','Dress','Coat',\n",
    "             'Sandel','Shirt','Sneaker','Bag','Ankle boot']"
   ]
  },
  {
   "cell_type": "code",
   "execution_count": 3,
   "metadata": {},
   "outputs": [
    {
     "name": "stdout",
     "output_type": "stream",
     "text": [
      "(10000, 28, 28)\n",
      "(60000, 28, 28, 1)\n",
      "(60000, 10)\n"
     ]
    }
   ],
   "source": [
    "# Data preprocessing\n",
    "# input [0-255] require scaling in [0-1]\n",
    "train_image=train_images/255.0\n",
    "test_image=test_images/255.0\n",
    "# target\n",
    "train_l=keras.utils.to_categorical(train_labels,10) # 10 class\n",
    "\n",
    "test_l=keras.utils.to_categorical(test_labels,10)\n",
    "train_images=np.expand_dims(train_image,3)\n",
    "test_images=np.expand_dims(test_image,3)\n",
    "\n",
    "print(test_image.shape)\n",
    "print(train_images.shape)\n",
    "print(train_l.shape)"
   ]
  },
  {
   "cell_type": "code",
   "execution_count": 4,
   "metadata": {},
   "outputs": [
    {
     "name": "stdout",
     "output_type": "stream",
     "text": [
      "Epoch 1/10\n",
      "1500/1500 [==============================] - 199s 133ms/step - loss: 0.5401 - accuracy: 0.8049 - val_loss: 0.4099 - val_accuracy: 0.8461\n",
      "Epoch 2/10\n",
      "1500/1500 [==============================] - 210s 140ms/step - loss: 0.3943 - accuracy: 0.8577 - val_loss: 0.4271 - val_accuracy: 0.8521\n",
      "Epoch 3/10\n",
      "1500/1500 [==============================] - 214s 142ms/step - loss: 0.3675 - accuracy: 0.8645 - val_loss: 0.8293 - val_accuracy: 0.7624\n",
      "Epoch 4/10\n",
      "1500/1500 [==============================] - 196s 131ms/step - loss: 0.3453 - accuracy: 0.8733 - val_loss: 1.2081 - val_accuracy: 0.7381\n",
      "Epoch 5/10\n",
      "1500/1500 [==============================] - 218s 146ms/step - loss: 0.3386 - accuracy: 0.8767 - val_loss: 1.2515 - val_accuracy: 0.7372\n",
      "Epoch 6/10\n",
      "1500/1500 [==============================] - 207s 138ms/step - loss: 0.3253 - accuracy: 0.8807 - val_loss: 0.6774 - val_accuracy: 0.8058\n",
      "Epoch 7/10\n",
      "1500/1500 [==============================] - 227s 151ms/step - loss: 0.3187 - accuracy: 0.8833 - val_loss: 0.5123 - val_accuracy: 0.8234\n",
      "Epoch 8/10\n",
      "1500/1500 [==============================] - 187s 125ms/step - loss: 0.3100 - accuracy: 0.8857 - val_loss: 4.0621 - val_accuracy: 0.4945\n",
      "Epoch 9/10\n",
      "1500/1500 [==============================] - 174s 116ms/step - loss: 0.3083 - accuracy: 0.8874 - val_loss: 0.7698 - val_accuracy: 0.7782\n",
      "Epoch 10/10\n",
      "1500/1500 [==============================] - 168s 112ms/step - loss: 0.3013 - accuracy: 0.8878 - val_loss: 0.6812 - val_accuracy: 0.8154\n",
      "Model: \"sequential\"\n",
      "_________________________________________________________________\n",
      "Layer (type)                 Output Shape              Param #   \n",
      "=================================================================\n",
      "conv2d (Conv2D)              (None, 26, 26, 32)        320       \n",
      "_________________________________________________________________\n",
      "dropout (Dropout)            (None, 26, 26, 32)        0         \n",
      "_________________________________________________________________\n",
      "dense (Dense)                (None, 26, 26, 100)       3300      \n",
      "_________________________________________________________________\n",
      "max_pooling2d (MaxPooling2D) (None, 13, 13, 100)       0         \n",
      "_________________________________________________________________\n",
      "batch_normalization (BatchNo (None, 13, 13, 100)       400       \n",
      "_________________________________________________________________\n",
      "conv2d_1 (Conv2D)            (None, 9, 9, 64)          160064    \n",
      "_________________________________________________________________\n",
      "dense_1 (Dense)              (None, 9, 9, 50)          3250      \n",
      "_________________________________________________________________\n",
      "average_pooling2d (AveragePo (None, 4, 4, 50)          0         \n",
      "_________________________________________________________________\n",
      "dropout_1 (Dropout)          (None, 4, 4, 50)          0         \n",
      "_________________________________________________________________\n",
      "conv2d_2 (Conv2D)            (None, 3, 3, 128)         25728     \n",
      "_________________________________________________________________\n",
      "flatten (Flatten)            (None, 1152)              0         \n",
      "_________________________________________________________________\n",
      "dense_2 (Dense)              (None, 10)                11530     \n",
      "=================================================================\n",
      "Total params: 204,592\n",
      "Trainable params: 204,392\n",
      "Non-trainable params: 200\n",
      "_________________________________________________________________\n"
     ]
    }
   ],
   "source": [
    "cnn_model=tf.keras.Sequential()\n",
    "cnn_model.add(tf.keras.layers.Conv2D(32,(3,3),activation='relu',\n",
    "                                 input_shape=(28,28,1))) \n",
    "cnn_model.add(tf.keras.layers.Dropout(0.4))\n",
    "cnn_model.add(tf.keras.layers.Dense(100))\n",
    "cnn_model.add(tf.keras.layers.MaxPooling2D((2,2)))\n",
    "cnn_model.add(tf.keras.layers.BatchNormalization())\n",
    "cnn_model.add(tf.keras.layers.Conv2D(64,5))\n",
    "\n",
    "cnn_model.add(tf.keras.layers.Dense(50))\n",
    "cnn_model.add(tf.keras.layers.AveragePooling2D(2,2))\n",
    "cnn_model.add(tf.keras.layers.Dropout(0.4))\n",
    "cnn_model.add(tf.keras.layers.Conv2D(128,2,activation='relu'))\n",
    "cnn_model.add(tf.keras.layers.Flatten())\n",
    "cnn_model.add(tf.keras.layers.Dense(10,activation='softmax')) \n",
    "cnn_model.compile(optimizer='adam', loss='categorical_crossentropy',metrics=['accuracy'])\n",
    "hist=cnn_model.fit(train_images,train_l,epochs=10,verbose=1,validation_split=0.2)\n",
    "cnn_model.summary()\n"
   ]
  },
  {
   "cell_type": "code",
   "execution_count": 5,
   "metadata": {},
   "outputs": [
    {
     "name": "stdout",
     "output_type": "stream",
     "text": [
      "313/313 [==============================] - 9s 28ms/step - loss: 0.7094 - accuracy: 0.8086\n",
      "0.8086000084877014\n"
     ]
    }
   ],
   "source": [
    "test_loss1,test_acc1=cnn_model.evaluate(test_images,test_l)\n",
    "print(test_acc1)"
   ]
  },
  {
   "cell_type": "code",
   "execution_count": 6,
   "metadata": {},
   "outputs": [],
   "source": [
    "import pickle\n",
    "with open('cnntrainHistory', 'wb') as file_pi:\n",
    "        pickle.dump(hist.history, file_pi)"
   ]
  },
  {
   "cell_type": "code",
   "execution_count": 7,
   "metadata": {},
   "outputs": [
    {
     "data": {
      "image/png": "[encoded data removed]",
      "text/plain": [
       "<Figure size 720x720 with 2 Axes>"
      ]
     },
     "metadata": {
      "needs_background": "light"
     },
     "output_type": "display_data"
    }
   ],
   "source": [
    "def history_graph():\n",
    "    plt.figure(figsize=(10,10))\n",
    "    train_acc=hist.history['accuracy']\n",
    "    val_acc=hist.history['val_accuracy']\n",
    "    train_loss=hist.history['loss']\n",
    "    val_loss=hist.history['val_loss']\n",
    "    plt.subplot(2,2,1)\n",
    "    plt.plot(train_acc,label='train acc')\n",
    "    plt.plot(val_acc,label='val acc')\n",
    "    plt.legend()\n",
    "    plt.title('acc')\n",
    "    plt.subplot(2,2,3)\n",
    "    plt.plot(train_loss,label='train loss')\n",
    "    plt.plot(val_loss,label='val loss')\n",
    "    plt.legend()\n",
    "    plt.title('loss')\n",
    "history_graph()"
   ]
  },
  {
   "cell_type": "code",
   "execution_count": 8,
   "metadata": {},
   "outputs": [
    {
     "name": "stdout",
     "output_type": "stream",
     "text": [
      "WARNING:tensorflow:From C:\\Users\\yahya\\anaconda3\\envs\\crossplatform\\lib\\site-packages\\tensorflow\\python\\training\\tracking\\tracking.py:111: Model.state_updates (from tensorflow.python.keras.engine.training) is deprecated and will be removed in a future version.\n",
      "Instructions for updating:\n",
      "This property should not be used in TensorFlow 2.0, as updates are applied automatically.\n",
      "WARNING:tensorflow:From C:\\Users\\yahya\\anaconda3\\envs\\crossplatform\\lib\\site-packages\\tensorflow\\python\\training\\tracking\\tracking.py:111: Layer.updates (from tensorflow.python.keras.engine.base_layer) is deprecated and will be removed in a future version.\n",
      "Instructions for updating:\n",
      "This property should not be used in TensorFlow 2.0, as updates are applied automatically.\n",
      "INFO:tensorflow:Assets written to: cnn_model\\assets\n"
     ]
    }
   ],
   "source": [
    "cnn_model.save('cnn_model')"
   ]
  },
  {
   "cell_type": "code",
   "execution_count": null,
   "metadata": {},
   "outputs": [],
   "source": []
  }
 ],
 "metadata": {
  "kernelspec": {
   "display_name": "Python 3 (ipykernel)",
   "language": "python",
   "name": "python3"
  },
  "language_info": {
   "codemirror_mode": {
    "name": "ipython",
    "version": 3
   },
   "file_extension": ".py",
   "mimetype": "text/x-python",
   "name": "python",
   "nbconvert_exporter": "python",
   "pygments_lexer": "ipython3",
   "version": "3.8.12"
  }
 },
 "nbformat": 4,
 "nbformat_minor": 4
}
