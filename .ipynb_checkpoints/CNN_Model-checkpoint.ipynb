{
 "cells": [
  {
   "cell_type": "markdown",
   "metadata": {},
   "source": [
    "# CNN model For fashion Mnist Dataset Classication"
   ]
  },
  {
   "cell_type": "code",
   "execution_count": 1,
   "metadata": {},
   "outputs": [
    {
     "ename": "ModuleNotFoundError",
     "evalue": "No module named 'streamlit'",
     "output_type": "error",
     "traceback": [
      "\u001b[1;31m---------------------------------------------------------------------------\u001b[0m",
      "\u001b[1;31mModuleNotFoundError\u001b[0m                       Traceback (most recent call last)",
      "\u001b[1;32m~\\AppData\\Local\\Temp/ipykernel_19300/999505264.py\u001b[0m in \u001b[0;36m<module>\u001b[1;34m\u001b[0m\n\u001b[0;32m      1\u001b[0m \u001b[1;32mimport\u001b[0m \u001b[0mtensorflow\u001b[0m \u001b[1;32mas\u001b[0m \u001b[0mtf\u001b[0m\u001b[1;33m\u001b[0m\u001b[1;33m\u001b[0m\u001b[0m\n\u001b[1;32m----> 2\u001b[1;33m \u001b[1;32mimport\u001b[0m \u001b[0mstreamlit\u001b[0m \u001b[1;32mas\u001b[0m \u001b[0mst\u001b[0m\u001b[1;33m\u001b[0m\u001b[1;33m\u001b[0m\u001b[0m\n\u001b[0m\u001b[0;32m      3\u001b[0m \u001b[1;32mimport\u001b[0m \u001b[0mnumpy\u001b[0m \u001b[1;32mas\u001b[0m \u001b[0mnp\u001b[0m\u001b[1;33m\u001b[0m\u001b[1;33m\u001b[0m\u001b[0m\n\u001b[0;32m      4\u001b[0m \u001b[1;32mimport\u001b[0m \u001b[0mmatplotlib\u001b[0m\u001b[1;33m.\u001b[0m\u001b[0mpyplot\u001b[0m \u001b[1;32mas\u001b[0m \u001b[0mplt\u001b[0m\u001b[1;33m\u001b[0m\u001b[1;33m\u001b[0m\u001b[0m\n\u001b[0;32m      5\u001b[0m \u001b[1;32mimport\u001b[0m \u001b[0mcv2\u001b[0m\u001b[1;33m\u001b[0m\u001b[1;33m\u001b[0m\u001b[0m\n",
      "\u001b[1;31mModuleNotFoundError\u001b[0m: No module named 'streamlit'"
     ]
    }
   ],
   "source": [
    "import tensorflow as tf\n",
    "import streamlit as st\n",
    "import numpy as np\n",
    "import matplotlib.pyplot as plt\n",
    "import cv2\n",
    "from PIL import Image\n",
    "from tensorflow import keras"
   ]
  },
  {
   "cell_type": "code",
   "execution_count": 2,
   "metadata": {},
   "outputs": [
    {
     "ename": "NameError",
     "evalue": "name 'keras' is not defined",
     "output_type": "error",
     "traceback": [
      "\u001b[1;31m---------------------------------------------------------------------------\u001b[0m",
      "\u001b[1;31mNameError\u001b[0m                                 Traceback (most recent call last)",
      "\u001b[1;32m<ipython-input-2-12cd160ccf83>\u001b[0m in \u001b[0;36m<module>\u001b[1;34m\u001b[0m\n\u001b[1;32m----> 1\u001b[1;33m \u001b[0mfas_data\u001b[0m\u001b[1;33m=\u001b[0m\u001b[0mkeras\u001b[0m\u001b[1;33m.\u001b[0m\u001b[0mdatasets\u001b[0m\u001b[1;33m.\u001b[0m\u001b[0mfashion_mnist\u001b[0m\u001b[1;33m\u001b[0m\u001b[1;33m\u001b[0m\u001b[0m\n\u001b[0m\u001b[0;32m      2\u001b[0m \u001b[1;33m(\u001b[0m\u001b[0mtrain_images\u001b[0m\u001b[1;33m,\u001b[0m\u001b[0mtrain_labels\u001b[0m\u001b[1;33m)\u001b[0m\u001b[1;33m,\u001b[0m\u001b[1;33m(\u001b[0m\u001b[0mtest_images\u001b[0m\u001b[1;33m,\u001b[0m\u001b[0mtest_labels\u001b[0m\u001b[1;33m)\u001b[0m\u001b[1;33m=\u001b[0m\u001b[0mfas_data\u001b[0m\u001b[1;33m.\u001b[0m\u001b[0mload_data\u001b[0m\u001b[1;33m(\u001b[0m\u001b[1;33m)\u001b[0m\u001b[1;33m\u001b[0m\u001b[1;33m\u001b[0m\u001b[0m\n\u001b[0;32m      3\u001b[0m \u001b[1;33m\u001b[0m\u001b[0m\n\u001b[0;32m      4\u001b[0m \u001b[1;33m\u001b[0m\u001b[0m\n\u001b[0;32m      5\u001b[0m \u001b[1;33m\u001b[0m\u001b[0m\n",
      "\u001b[1;31mNameError\u001b[0m: name 'keras' is not defined"
     ]
    }
   ],
   "source": [
    "\n",
    "fas_data=keras.datasets.fashion_mnist\n",
    "(train_images,train_labels),(test_images,test_labels)=fas_data.load_data()\n",
    "\n",
    "\n",
    "\n",
    "############################## Class naming  #####################\n",
    "class_names=['Tshirt/TOP','Trouser','Pullover','Dress','Coat',\n",
    "             'Sandel','Shirt','Sneaker','Bag','Ankle boot']"
   ]
  },
  {
   "cell_type": "code",
   "execution_count": 3,
   "metadata": {},
   "outputs": [
    {
     "name": "stdout",
     "output_type": "stream",
     "text": [
      "(10000, 28, 28)\n",
      "(60000, 28, 28, 1)\n",
      "(60000, 10)\n"
     ]
    }
   ],
   "source": [
    "# Data preprocessing\n",
    "# input [0-255] require scaling in [0-1]\n",
    "train_image=train_images/255.0\n",
    "test_image=test_images/255.0\n",
    "# target\n",
    "train_l=keras.utils.to_categorical(train_labels,10) # 10 class\n",
    "\n",
    "test_l=keras.utils.to_categorical(test_labels,10)\n",
    "train_images=np.expand_dims(train_image,3)\n",
    "test_images=np.expand_dims(test_image,3)\n",
    "\n",
    "print(test_image.shape)\n",
    "print(train_images.shape)\n",
    "print(train_l.shape)"
   ]
  },
  {
   "cell_type": "code",
   "execution_count": 9,
   "metadata": {},
   "outputs": [
    {
     "name": "stdout",
     "output_type": "stream",
     "text": [
      "Epoch 1/15\n",
      "1500/1500 [==============================] - 103s 69ms/step - loss: 0.5356 - accuracy: 0.8075 - val_loss: 0.5629 - val_accuracy: 0.7943\n",
      "Epoch 2/15\n",
      "1500/1500 [==============================] - 78s 52ms/step - loss: 0.3988 - accuracy: 0.8559 - val_loss: 1.2155 - val_accuracy: 0.6997\n",
      "Epoch 3/15\n",
      "1500/1500 [==============================] - 79s 53ms/step - loss: 0.3672 - accuracy: 0.8654 - val_loss: 0.7758 - val_accuracy: 0.7827\n",
      "Epoch 4/15\n",
      "1500/1500 [==============================] - 79s 53ms/step - loss: 0.3506 - accuracy: 0.8717 - val_loss: 3.2418 - val_accuracy: 0.5465\n",
      "Epoch 5/15\n",
      "1500/1500 [==============================] - 78s 52ms/step - loss: 0.3356 - accuracy: 0.8782 - val_loss: 1.3480 - val_accuracy: 0.6631\n",
      "Epoch 6/15\n",
      "1500/1500 [==============================] - 78s 52ms/step - loss: 0.3263 - accuracy: 0.8801 - val_loss: 1.2604 - val_accuracy: 0.7035\n",
      "Epoch 7/15\n",
      "1500/1500 [==============================] - 79s 53ms/step - loss: 0.3192 - accuracy: 0.8827 - val_loss: 0.4757 - val_accuracy: 0.8457\n",
      "Epoch 8/15\n",
      "1500/1500 [==============================] - 79s 52ms/step - loss: 0.3068 - accuracy: 0.8869 - val_loss: 2.4729 - val_accuracy: 0.5347\n",
      "Epoch 9/15\n",
      "1500/1500 [==============================] - 79s 52ms/step - loss: 0.3057 - accuracy: 0.8877 - val_loss: 0.7872 - val_accuracy: 0.7831\n",
      "Epoch 10/15\n",
      "1500/1500 [==============================] - 82s 55ms/step - loss: 0.2971 - accuracy: 0.8914 - val_loss: 1.5567 - val_accuracy: 0.6599\n",
      "Epoch 11/15\n",
      "1500/1500 [==============================] - 82s 54ms/step - loss: 0.2949 - accuracy: 0.8917 - val_loss: 0.6586 - val_accuracy: 0.7708\n",
      "Epoch 12/15\n",
      "1500/1500 [==============================] - 81s 54ms/step - loss: 0.2864 - accuracy: 0.8942 - val_loss: 1.5458 - val_accuracy: 0.6617\n",
      "Epoch 13/15\n",
      "1500/1500 [==============================] - 85s 57ms/step - loss: 0.2824 - accuracy: 0.8948 - val_loss: 0.7752 - val_accuracy: 0.7528\n",
      "Epoch 14/15\n",
      "1500/1500 [==============================] - 81s 54ms/step - loss: 0.2827 - accuracy: 0.8956 - val_loss: 0.3346 - val_accuracy: 0.8819\n",
      "Epoch 15/15\n",
      "1500/1500 [==============================] - 80s 54ms/step - loss: 0.2768 - accuracy: 0.8975 - val_loss: 0.4274 - val_accuracy: 0.8388\n",
      "Model: \"sequential_1\"\n",
      "_________________________________________________________________\n",
      " Layer (type)                Output Shape              Param #   \n",
      "=================================================================\n",
      " conv2d_3 (Conv2D)           (None, 26, 26, 32)        320       \n",
      "                                                                 \n",
      " dropout_2 (Dropout)         (None, 26, 26, 32)        0         \n",
      "                                                                 \n",
      " dense_3 (Dense)             (None, 26, 26, 100)       3300      \n",
      "                                                                 \n",
      " max_pooling2d_1 (MaxPooling  (None, 13, 13, 100)      0         \n",
      " 2D)                                                             \n",
      "                                                                 \n",
      " batch_normalization_1 (Batc  (None, 13, 13, 100)      400       \n",
      " hNormalization)                                                 \n",
      "                                                                 \n",
      " conv2d_4 (Conv2D)           (None, 9, 9, 64)          160064    \n",
      "                                                                 \n",
      " dense_4 (Dense)             (None, 9, 9, 50)          3250      \n",
      "                                                                 \n",
      " average_pooling2d_1 (Averag  (None, 4, 4, 50)         0         \n",
      " ePooling2D)                                                     \n",
      "                                                                 \n",
      " dropout_3 (Dropout)         (None, 4, 4, 50)          0         \n",
      "                                                                 \n",
      " conv2d_5 (Conv2D)           (None, 3, 3, 128)         25728     \n",
      "                                                                 \n",
      " flatten_1 (Flatten)         (None, 1152)              0         \n",
      "                                                                 \n",
      " dense_5 (Dense)             (None, 10)                11530     \n",
      "                                                                 \n",
      "=================================================================\n",
      "Total params: 204,592\n",
      "Trainable params: 204,392\n",
      "Non-trainable params: 200\n",
      "_________________________________________________________________\n"
     ]
    }
   ],
   "source": [
    "cnn_model=tf.keras.Sequential()\n",
    "cnn_model.add(tf.keras.layers.Conv2D(32,(3,3),activation='relu',\n",
    "                                 input_shape=(28,28,1))) \n",
    "cnn_model.add(tf.keras.layers.Dropout(0.4))\n",
    "cnn_model.add(tf.keras.layers.Dense(100))\n",
    "cnn_model.add(tf.keras.layers.MaxPooling2D((2,2)))\n",
    "cnn_model.add(tf.keras.layers.BatchNormalization())\n",
    "cnn_model.add(tf.keras.layers.Conv2D(64,5))\n",
    "\n",
    "cnn_model.add(tf.keras.layers.Dense(50))\n",
    "cnn_model.add(tf.keras.layers.AveragePooling2D(2,2))\n",
    "cnn_model.add(tf.keras.layers.Dropout(0.4))\n",
    "cnn_model.add(tf.keras.layers.Conv2D(128,2,activation='relu'))\n",
    "cnn_model.add(tf.keras.layers.Flatten())\n",
    "cnn_model.add(tf.keras.layers.Dense(10,activation='softmax')) \n",
    "cnn_model.compile(optimizer='adam', loss='categorical_crossentropy',metrics=['accuracy'])\n",
    "hist=cnn_model.fit(train_images,train_l,epochs=15,verbose=1,validation_split=0.2)\n",
    "cnn_model.summary()\n"
   ]
  },
  {
   "cell_type": "code",
   "execution_count": 10,
   "metadata": {},
   "outputs": [
    {
     "name": "stdout",
     "output_type": "stream",
     "text": [
      "313/313 [==============================] - 8s 26ms/step - loss: 0.4370 - accuracy: 0.8359\n",
      "0.8359000086784363\n"
     ]
    }
   ],
   "source": [
    "test_loss1,test_acc1=cnn_model.evaluate(test_images,test_l)\n",
    "print(test_acc1)"
   ]
  },
  {
   "cell_type": "code",
   "execution_count": 11,
   "metadata": {},
   "outputs": [],
   "source": [
    "import pickle\n",
    "with open('cnntrainHistory', 'wb') as file_pi:\n",
    "        pickle.dump(hist.history, file_pi)"
   ]
  },
  {
   "cell_type": "code",
   "execution_count": 12,
   "metadata": {},
   "outputs": [
    {
     "data": {
      "image/png": "[encoded data removed]",
      "text/plain": [
       "<Figure size 720x720 with 2 Axes>"
      ]
     },
     "metadata": {
      "needs_background": "light"
     },
     "output_type": "display_data"
    }
   ],
   "source": [
    "def history_graph():\n",
    "    plt.figure(figsize=(10,10))\n",
    "    train_acc=hist.history['accuracy']\n",
    "    val_acc=hist.history['val_accuracy']\n",
    "    train_loss=hist.history['loss']\n",
    "    val_loss=hist.history['val_loss']\n",
    "    plt.subplot(2,2,1)\n",
    "    plt.plot(train_acc,label='train acc')\n",
    "    plt.plot(val_acc,label='val acc')\n",
    "    plt.legend()\n",
    "    plt.title('acc')\n",
    "    plt.subplot(2,2,3)\n",
    "    plt.plot(train_loss,label='train loss')\n",
    "    plt.plot(val_loss,label='val loss')\n",
    "    plt.legend()\n",
    "    plt.title('loss')\n",
    "history_graph()"
   ]
  },
  {
   "cell_type": "code",
   "execution_count": 13,
   "metadata": {},
   "outputs": [
    {
     "name": "stdout",
     "output_type": "stream",
     "text": [
      "INFO:tensorflow:Assets written to: cnn_model\\assets\n"
     ]
    },
    {
     "name": "stderr",
     "output_type": "stream",
     "text": [
      "2021-12-26 22:48:43.765 INFO    tensorflow: Assets written to: cnn_model\\assets\n"
     ]
    }
   ],
   "source": [
    "cnn_model.save('cnn_model')"
   ]
  },
  {
   "cell_type": "code",
   "execution_count": null,
   "metadata": {},
   "outputs": [],
   "source": []
  }
 ],
 "metadata": {
  "kernelspec": {
   "display_name": "Python 3 (ipykernel)",
   "language": "python",
   "name": "python3"
  },
  "language_info": {
   "codemirror_mode": {
    "name": "ipython",
    "version": 3
   },
   "file_extension": ".py",
   "mimetype": "text/x-python",
   "name": "python",
   "nbconvert_exporter": "python",
   "pygments_lexer": "ipython3",
   "version": "3.8.12"
  }
 },
 "nbformat": 4,
 "nbformat_minor": 4
}
